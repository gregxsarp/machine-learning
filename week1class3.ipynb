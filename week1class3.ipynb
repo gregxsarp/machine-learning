{
 "cells": [
  {
   "cell_type": "code",
   "execution_count": 33,
   "metadata": {},
   "outputs": [
    {
     "name": "stdout",
     "output_type": "stream",
     "text": [
      "the chestnut will fill the solar system in 565\n"
     ]
    }
   ],
   "source": [
    "#problem 1\n",
    "import math\n",
    "\n",
    "#chestnut calculations in cm\n",
    "\n",
    "#chestnut diameter in cm\n",
    "CHESTNUT_DIAMETER = 2.54\n",
    "\n",
    "CHESTNUT_RADIUS = 2.54//2\n",
    "\n",
    "CHESTNUT_VOLUME = (4/3)*math.pi*(CHESTNUT_RADIUS**3)\n",
    "\n",
    "#chestnut volume in meters\n",
    "CHESTNUT_VOLUME_IN_METERS = CHESTNUT_VOLUME*0.01\n",
    "\n",
    "#chestnut volume in kilometers\n",
    "CHESTNUT_VOLUME_IN_KM = CHESTNUT_VOLUME_IN_METERS/1000\n",
    "\n",
    "\n",
    "#solar system calculations\n",
    "\n",
    "#solar system radius in km\n",
    "SOLAR_SYSTEM_RADIUS = 4.545*1000000000\n",
    "\n",
    "#solar system volume\n",
    "SOLAR_SYSTEM_VOLUME = (4/3)*math.pi*(SOLAR_SYSTEM_RADIUS**3)\n",
    "\n",
    "# a function to calculate how many times it will double to fill the entire universe\n",
    "def calculate_doubling_times(volume_1, volume_2):\n",
    "    \n",
    "    doubling_times = 0\n",
    "    \n",
    "    while (volume_1 <= volume_2):\n",
    "        volume_1 *= 2\n",
    "        volumes.append(volume_1)\n",
    "        doubling_times += 1\n",
    "        minutes.append(doubling_times*5)\n",
    "    return doubling_times\n",
    "\n",
    "# after getting how many times it will take to double, let's find how many minutes it will take\n",
    "minutes_of_doubling = 5 * calculate_doubling_times(CHESTNUT_VOLUME_IN_KM,SOLAR_SYSTEM_VOLUME)\n",
    "    \n",
    "print(\"the chestnut will fill the solar system in {}\".format(minutes_of_doubling))"
   ]
  },
  {
   "cell_type": "code",
   "execution_count": 40,
   "metadata": {},
   "outputs": [
    {
     "name": "stdout",
     "output_type": "stream",
     "text": [
      "the ball will fill the tokyo dome in 365\n"
     ]
    },
    {
     "data": {
      "image/png": "[encoded data removed]",
      "text/plain": [
       "<Figure size 432x288 with 1 Axes>"
      ]
     },
     "metadata": {
      "needs_background": "light"
     },
     "output_type": "display_data"
    }
   ],
   "source": [
    "# problem 2\n",
    "import matplotlib.pyplot as plt\n",
    "\n",
    "# a list to contain how the volume and minutes increases over time\n",
    "volumes = []\n",
    "minutes = []\n",
    "\n",
    "# i could not find valid measurements of the tokyo dome\n",
    "\n",
    "# lets use the volume we already have as an example, this can be changed to any volume you want\n",
    "VOLUME_OF_A_BALL = CHESTNUT_VOLUME_IN_KM*100\n",
    "VOLUME_OF_TOKYO_DOME = SOLAR_SYSTEM_VOLUME//10000000000\n",
    "\n",
    "minutes_of_doubling = 5 * calculate_doubling_times(VOLUME_OF_A_BALL,VOLUME_OF_TOKYO_DOME)\n",
    "\n",
    "print(\"the ball will fill the tokyo dome in {}\".format(minutes_of_doubling))\n",
    "# display a graph of how volumes increases\n",
    "plt.title ( \"Change in volume overtime\" ) \n",
    "plt.xlabel ( \"Volume\" ) \n",
    "plt.ylabel ( \"Time\") \n",
    "plt.plot(minutes,volumes, linestyle='dashed', linewidth=2, color='green')\n",
    "plt.show()"
   ]
  },
  {
   "cell_type": "code",
   "execution_count": null,
   "metadata": {},
   "outputs": [],
   "source": []
  }
 ],
 "metadata": {
  "kernelspec": {
   "display_name": "Python 3",
   "language": "python",
   "name": "python3"
  },
  "language_info": {
   "codemirror_mode": {
    "name": "ipython",
    "version": 3
   },
   "file_extension": ".py",
   "mimetype": "text/x-python",
   "name": "python",
   "nbconvert_exporter": "python",
   "pygments_lexer": "ipython3",
   "version": "3.7.6"
  }
 },
 "nbformat": 4,
 "nbformat_minor": 4
}
