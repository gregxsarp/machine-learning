{
  "nbformat": 4,
  "nbformat_minor": 0,
  "metadata": {
    "kernelspec": {
      "display_name": "Python 3",
      "language": "python",
      "name": "python3"
    },
    "language_info": {
      "codemirror_mode": {
        "name": "ipython",
        "version": 3
      },
      "file_extension": ".py",
      "mimetype": "text/x-python",
      "name": "python",
      "nbconvert_exporter": "python",
      "pygments_lexer": "ipython3",
      "version": "3.8.5"
    },
    "colab": {
      "name": "sprint9.ipynb",
      "provenance": []
    },
    "accelerator": "GPU"
  },
  "cells": [
    {
      "cell_type": "code",
      "metadata": {
        "id": "uECBDtFUbm_Q"
      },
      "source": [
        "# importing dependencies\n",
        "import matplotlib.pyplot as plt\n",
        "from keras.datasets import mnist\n",
        "import numpy as np\n",
        "from sklearn.preprocessing import OneHotEncoder\n",
        "from sklearn.model_selection import train_test_split\n",
        "from sklearn.metrics import accuracy_score"
      ],
      "execution_count": 1,
      "outputs": []
    },
    {
      "cell_type": "code",
      "metadata": {
        "id": "We0Ryhlqbm_g",
        "colab": {
          "base_uri": "https://localhost:8080/"
        },
        "outputId": "bc53a5da-f890-401e-8ffa-b28b3ae96414"
      },
      "source": [
        "# get subsets\n",
        "(X_train, y_train), (X_test, y_test) = mnist.load_data()"
      ],
      "execution_count": 2,
      "outputs": [
        {
          "output_type": "stream",
          "text": [
            "Downloading data from https://storage.googleapis.com/tensorflow/tf-keras-datasets/mnist.npz\n",
            "11493376/11490434 [==============================] - 0s 0us/step\n"
          ],
          "name": "stdout"
        }
      ]
    },
    {
      "cell_type": "code",
      "metadata": {
        "colab": {
          "base_uri": "https://localhost:8080/"
        },
        "id": "tiNoksA-bm_h",
        "outputId": "7958e524-2b76-4ec0-b547-4fbda1d9c231"
      },
      "source": [
        "# checking the subsets\n",
        "print(X_train.shape) \n",
        "print(X_test.shape)"
      ],
      "execution_count": 3,
      "outputs": [
        {
          "output_type": "stream",
          "text": [
            "(60000, 28, 28)\n",
            "(10000, 28, 28)\n"
          ],
          "name": "stdout"
        }
      ]
    },
    {
      "cell_type": "code",
      "metadata": {
        "id": "2rNkkIbjbm_k"
      },
      "source": [
        "# flattening the subsets\n",
        "X_train = X_train.reshape(-1,784)\n",
        "X_test = X_test.reshape(-1,784)"
      ],
      "execution_count": 4,
      "outputs": []
    },
    {
      "cell_type": "code",
      "metadata": {
        "colab": {
          "base_uri": "https://localhost:8080/",
          "height": 281
        },
        "id": "da7azwaVbm_l",
        "outputId": "cd4b5275-d826-4239-c20a-756cf7cec10a"
      },
      "source": [
        "# visualize the data\n",
        "%matplotlib inline\n",
        "index = 0\n",
        "image = X_train[index].reshape(28,28)\n",
        "plt.imshow(image, 'gray', vmin = 0, vmax = 255)\n",
        "plt.title('label : {}'.format(y_train[index]))\n",
        "plt.show()"
      ],
      "execution_count": 5,
      "outputs": [
        {
          "output_type": "display_data",
          "data": {
            "image/png": "[encoded data removed]",
            "text/plain": [
              "<Figure size 432x288 with 1 Axes>"
            ]
          },
          "metadata": {
            "tags": [],
            "needs_background": "light"
          }
        }
      ]
    },
    {
      "cell_type": "code",
      "metadata": {
        "colab": {
          "base_uri": "https://localhost:8080/"
        },
        "id": "Y9giwg0Xbm_m",
        "outputId": "f27d3f26-55f9-40d9-f584-c5b9de274e6f"
      },
      "source": [
        "# pre processing\n",
        "X_train = X_train.astype(np.float)\n",
        "X_test = X_test.astype(np.float)\n",
        "X_train /= 255\n",
        "X_test /= 255\n",
        "print(X_train.max()) # 1.0\n",
        "print(X_train.min())"
      ],
      "execution_count": 6,
      "outputs": [
        {
          "output_type": "stream",
          "text": [
            "1.0\n",
            "0.0\n"
          ],
          "name": "stdout"
        }
      ]
    },
    {
      "cell_type": "code",
      "metadata": {
        "id": "8WcVgBiXbm_o"
      },
      "source": [
        "# splitting our subsets into train and validation subsets\n",
        "X_train, X_val, y_train, y_val = train_test_split(X_train, y_train, test_size=0.2)"
      ],
      "execution_count": 7,
      "outputs": []
    },
    {
      "cell_type": "code",
      "metadata": {
        "colab": {
          "base_uri": "https://localhost:8080/"
        },
        "id": "f10EJYL4bm_n",
        "outputId": "556681f1-2411-4a9f-be70-93e92f689272"
      },
      "source": [
        "enc = OneHotEncoder(handle_unknown='ignore', sparse=False)\n",
        "y_train_one_hot = enc.fit_transform(y_train[:, np.newaxis])\n",
        "y_test_one_hot = enc.transform(y_val[:, np.newaxis])\n",
        "print(y_train.shape) # (60000,)\n",
        "print(y_train_one_hot.shape) # (60000, 10)\n",
        "print(y_train_one_hot.dtype) # float64"
      ],
      "execution_count": 8,
      "outputs": [
        {
          "output_type": "stream",
          "text": [
            "(48000,)\n",
            "(48000, 10)\n",
            "float64\n"
          ],
          "name": "stdout"
        }
      ]
    },
    {
      "cell_type": "code",
      "metadata": {
        "colab": {
          "base_uri": "https://localhost:8080/"
        },
        "id": "bba1V1yKbm_q",
        "outputId": "98165e3c-ca35-472b-b3b9-2017fb7eb4f7"
      },
      "source": [
        "print(X_train.shape) # (48000, 784)\n",
        "print(X_val.shape) # (12000, 784)"
      ],
      "execution_count": 9,
      "outputs": [
        {
          "output_type": "stream",
          "text": [
            "(48000, 784)\n",
            "(12000, 784)\n"
          ],
          "name": "stdout"
        }
      ]
    },
    {
      "cell_type": "code",
      "metadata": {
        "id": "-ZEwNFpbbm_r"
      },
      "source": [
        "# mini batch\n",
        "class GetMiniBatch:\n",
        "    \"\"\"\n",
        "Iterator to get a mini-batch\n",
        "    Parameters\n",
        "    ----------\n",
        "    X : The following forms of ndarray, shape (n_samples, n_features)\n",
        "      Training data\n",
        "    y : The following form of ndarray, shape (n_samples, 1)\n",
        "      Correct answer value\n",
        "    batch_size : int\n",
        "      Batch size\n",
        "    seed : int\n",
        "      NumPy random number seed\n",
        "    \"\"\"\n",
        "    def __init__(self, X, y, batch_size = 20, seed=0):\n",
        "        self.batch_size = batch_size\n",
        "        np.random.seed(seed)\n",
        "        shuffle_index = np.random.permutation(np.arange(X.shape[0]))\n",
        "        self._X = X[shuffle_index]\n",
        "        self._y = y[shuffle_index]\n",
        "        self._stop = np.ceil(X.shape[0]/self.batch_size).astype(np.int)\n",
        "    def __len__(self):\n",
        "        return self._stop\n",
        "    def __getitem__(self,item):\n",
        "        p0 = item*self.batch_size\n",
        "        p1 = item*self.batch_size + self.batch_size\n",
        "        return self._X[p0:p1], self._y[p0:p1]        \n",
        "    def __iter__(self):\n",
        "        self._counter = 0\n",
        "        return self\n",
        "    def __next__(self):\n",
        "        if self._counter >= self._stop:\n",
        "            raise StopIteration()\n",
        "        p0 = self._counter*self.batch_size\n",
        "        p1 = self._counter*self.batch_size + self.batch_size\n",
        "        self._counter += 1\n",
        "        return self._X[p0:p1], self._y[p0:p1]"
      ],
      "execution_count": 10,
      "outputs": []
    },
    {
      "cell_type": "code",
      "metadata": {
        "id": "RCkrElU3bm_t"
      },
      "source": [
        "# calculating the batch\n",
        "get_mini_batch = GetMiniBatch(X_train, y_train, batch_size=20)"
      ],
      "execution_count": 11,
      "outputs": []
    },
    {
      "cell_type": "code",
      "metadata": {
        "colab": {
          "base_uri": "https://localhost:8080/"
        },
        "id": "V8vYbTrlbm_u",
        "outputId": "446d392b-6938-4a98-e521-cb5f139fea7d"
      },
      "source": [
        "print(len(get_mini_batch))"
      ],
      "execution_count": 12,
      "outputs": [
        {
          "output_type": "stream",
          "text": [
            "2400\n"
          ],
          "name": "stdout"
        }
      ]
    },
    {
      "cell_type": "markdown",
      "metadata": {
        "id": "QO6dTy91bm_u"
      },
      "source": [
        "[Problem 1] Creating a code to determine the initial weight value"
      ]
    },
    {
      "cell_type": "code",
      "metadata": {
        "id": "RZqgUzevbm_v"
      },
      "source": [
        "n_sample,n_features = X_train.shape\n",
        "n_nodes1 = 400\n",
        "sigma = 0.01 # Standard deviation of Gaussian distribution\n",
        "W1 = sigma * np.random.randn(n_features, n_nodes1)"
      ],
      "execution_count": 13,
      "outputs": []
    },
    {
      "cell_type": "code",
      "metadata": {
        "colab": {
          "base_uri": "https://localhost:8080/"
        },
        "id": "V4QvA4-Lbm_w",
        "outputId": "efcd9e33-e6eb-4bb6-dd1d-0929c7e106c5"
      },
      "source": [
        "print(n_nodes1)"
      ],
      "execution_count": 14,
      "outputs": [
        {
          "output_type": "stream",
          "text": [
            "400\n"
          ],
          "name": "stdout"
        }
      ]
    },
    {
      "cell_type": "markdown",
      "metadata": {
        "id": "NA7Fk8NKPQaF"
      },
      "source": [
        "### [Problem 1] Classifying fully connected layers"
      ]
    },
    {
      "cell_type": "code",
      "metadata": {
        "id": "KYnp59gOPF_u"
      },
      "source": [
        "class FC():\r\n",
        "    def __init__(self, n_nodes1, n_nodes2, initializer, optimizer, layer_name):\r\n",
        "        self.optimizer = optimizer\r\n",
        "        self.n_nodes1 = n_nodes1\r\n",
        "        self.n_nodes2 = n_nodes2\r\n",
        "        self.layer_name = layer_name\r\n",
        "        self.initializer = initializer\r\n",
        "        self.W = self.initializer.W(self.n_nodes1, self.n_nodes2)\r\n",
        "        self.b = self.initializer.b(self.n_nodes2)\r\n",
        "        pass\r\n",
        "\r\n",
        "    def activation_function(self,X, af_name, layer_name):\r\n",
        "      # if layer_name == \"hidden\" or layer_name == \"first\":\r\n",
        "      #   act_f = np.tanh(X)\r\n",
        "      #   return act_f\r\n",
        "      # else: \r\n",
        "      #   act_f = np.exp(X) / np.sum(np.exp(X), axis=1).reshape(-1, 1)\r\n",
        "      #   return act_f\r\n",
        "      if layer_name == \"output\":\r\n",
        "        act_f = Softmax().calc(X)\r\n",
        "        return act_f\r\n",
        "      elif af_name == \"tanh\":\r\n",
        "        act_f = Tanh().calc(X)\r\n",
        "        return act_f\r\n",
        "      elif af_name == \"sigmoid\":\r\n",
        "        act_f = Sigmoid().calc(X)\r\n",
        "        return act_f\r\n",
        "      elif af_name == \"softmax\":\r\n",
        "        act_f = Softmax().calc(X)\r\n",
        "        return act_f\r\n",
        "      elif af_name == \"relu\":\r\n",
        "        act_f = ReLu().calc(X)\r\n",
        "        return act_f\r\n",
        "    \r\n",
        "    def forward_propagation(self, X, af_name, layer_name):\r\n",
        "      self.layer_pre = np.matmul(X,self.W) + self.b\r\n",
        "      self.layer = self.activation_function(self.layer_pre, af_name, layer_name)\r\n",
        "      return self.layer\r\n",
        "\r\n",
        "    def backward_propagation(self, X, y, current_layer, next_layer, dZ, layer_name):\r\n",
        "      self.dA = current_layer - y if layer_name == \"output\" else dZ*(1 - current_layer**2)\r\n",
        "      self.db = np.sum(self.dA, axis=0)\r\n",
        "      self.dW = next_layer.T @ self.dA if layer_name != \"first\" else X.T @ self.dA\r\n",
        "      dZ = self.dA @ self.W.T\r\n",
        "      # update\r\n",
        "      self = self.optimizer.update(self)\r\n",
        "      return dZ"
      ],
      "execution_count": 15,
      "outputs": []
    },
    {
      "cell_type": "markdown",
      "metadata": {
        "id": "e-7GS0p1T7b8"
      },
      "source": [
        "### [Problem 2] Classifying the initialization method"
      ]
    },
    {
      "cell_type": "code",
      "metadata": {
        "id": "HieiXGUCUBEU"
      },
      "source": [
        "class SimpleInitializer():\r\n",
        "    def __init__(self, sigma):\r\n",
        "        self.sigma = sigma\r\n",
        "    def W(self, n_nodes1, n_nodes2):\r\n",
        "      return self.sigma * np.random.randn(n_nodes1, n_nodes2)\r\n",
        "    def b(self, n_nodes2):\r\n",
        "      return self.sigma * np.random.randn(1, n_nodes2)"
      ],
      "execution_count": 16,
      "outputs": []
    },
    {
      "cell_type": "markdown",
      "metadata": {
        "id": "GxSr8pRXU1zv"
      },
      "source": [
        "### [Problem 3] Classifying optimization methods"
      ]
    },
    {
      "cell_type": "code",
      "metadata": {
        "id": "_RbLSDNfU34t"
      },
      "source": [
        "class SGD():\r\n",
        "    def __init__(self, lr):\r\n",
        "        self.lr = lr\r\n",
        "    def update(self, layer):\r\n",
        "      layer.W -= self.lr * layer.dW\r\n",
        "      layer.b -= self.lr * layer.db"
      ],
      "execution_count": 17,
      "outputs": []
    },
    {
      "cell_type": "markdown",
      "metadata": {
        "id": "BfE7sr6OV8BY"
      },
      "source": [
        "### [Problem 4] Classifying activation functions"
      ]
    },
    {
      "cell_type": "code",
      "metadata": {
        "id": "sJqf1NZxV-BA"
      },
      "source": [
        "class Sigmoid():\r\n",
        "  def __init__(self):\r\n",
        "    pass\r\n",
        "  \r\n",
        "  def calc(self,X):\r\n",
        "    return 1/(1+np.exp(-X))\r\n",
        "\r\n",
        "class Tanh:\r\n",
        "  def __init__(self):\r\n",
        "    pass\r\n",
        "  \r\n",
        "  def calc(self,X):\r\n",
        "    return np.tanh(X)\r\n",
        "\r\n",
        "class Softmax:\r\n",
        "  def __init__(self):\r\n",
        "    pass\r\n",
        "  \r\n",
        "  def calc(self,X):\r\n",
        "    return np.exp(X) / np.sum(np.exp(X), axis=1).reshape(-1, 1)"
      ],
      "execution_count": 18,
      "outputs": []
    },
    {
      "cell_type": "markdown",
      "metadata": {
        "id": "wxFvsvB2Yi7w"
      },
      "source": [
        "### [Problem 5] ReLU class creation"
      ]
    },
    {
      "cell_type": "code",
      "metadata": {
        "id": "BDmGZ1qdYk5L"
      },
      "source": [
        "class ReLu():\r\n",
        "  def __init__(self):\r\n",
        "    pass\r\n",
        "  \r\n",
        "  def calc(self,X):\r\n",
        "    return np.maximum(X,0)"
      ],
      "execution_count": 19,
      "outputs": []
    },
    {
      "cell_type": "markdown",
      "metadata": {
        "id": "JNSIhqnwVysT"
      },
      "source": [
        "### [Problem 6] Initial value of weight"
      ]
    },
    {
      "cell_type": "code",
      "metadata": {
        "id": "h_wSM-gYV3qS"
      },
      "source": [
        "class XavierInitializer():\r\n",
        "  def __init__(self, sigma):\r\n",
        "        self.sigma = sigma\r\n",
        "  def W(self, n_nodes1, n_nodes2):\r\n",
        "    return self.sigma * np.random.randn(n_nodes1, n_nodes2)/np.sqrt(n_nodes1)\r\n",
        "  def b(self, n_nodes2):\r\n",
        "    return self.sigma * np.random.randn(1, n_nodes2)"
      ],
      "execution_count": 20,
      "outputs": []
    },
    {
      "cell_type": "code",
      "metadata": {
        "id": "9LRYdXgXW7IN"
      },
      "source": [
        "class HeInitializer():\r\n",
        "  def __init__(self, sigma):\r\n",
        "        self.sigma = sigma\r\n",
        "  def W(self, n_nodes1, n_nodes2):\r\n",
        "    return self.sigma * np.random.randn(n_nodes1, n_nodes2)/np.sqrt(2/n_nodes1)\r\n",
        "  def b(self, n_nodes2):\r\n",
        "    return self.sigma * np.random.randn(1, n_nodes2)"
      ],
      "execution_count": 21,
      "outputs": []
    },
    {
      "cell_type": "markdown",
      "metadata": {
        "id": "IImUROvGYTE9"
      },
      "source": [
        "### [Problem 7] Optimization method"
      ]
    },
    {
      "cell_type": "code",
      "metadata": {
        "id": "sG-9WUY2YXS7"
      },
      "source": [
        "class Adagrad():\r\n",
        "  def __init__(self,lr):\r\n",
        "    self.lr = lr\r\n",
        "    self.hW = 0\r\n",
        "    self.hb = 0\r\n",
        "\r\n",
        "  def update(self, layer):\r\n",
        "    self.hW += layer.dW*layer.dW\r\n",
        "    self.hb += layer.db*layer.db\r\n",
        "    layer.W -= self.lr * layer.dW\r\n",
        "    layer.b -= self.lr * layer.db\r\n",
        "    return layer"
      ],
      "execution_count": 22,
      "outputs": []
    },
    {
      "cell_type": "markdown",
      "metadata": {
        "id": "h77uJoCWfd1m"
      },
      "source": [
        "### [Problem 8] Class completion"
      ]
    },
    {
      "cell_type": "code",
      "metadata": {
        "id": "KuznxApDbm_w"
      },
      "source": [
        "# neural network from scratch\n",
        "class ScratchDeepNeuralNetrowkClassifier():\n",
        "    def __init__(self, verbose = True, n_features=784,n_nodes1=400,n_nodes2=200, batch_size=20,n_output=10, n_epoch=10, lr=0.01, sigma=0.02, initializer_name=\"simple\", optimizer_name=\"sdg\", af_name=\"tanh\"):\n",
        "        self.verbose = verbose\n",
        "        self.n_features = n_features\n",
        "        self.n_nodes1 = n_nodes1\n",
        "        self.n_nodes2 = n_nodes2\n",
        "        self.batch_size = batch_size\n",
        "        self.n_output = n_output\n",
        "        self.n_epoch = n_epoch\n",
        "        self.lr = lr\n",
        "        self.sigma = sigma\n",
        "        self.initializer_name = initializer_name\n",
        "        self.optimizer_name = optimizer_name\n",
        "        self.af_name = af_name\n",
        "        self.loss = []\n",
        "        self.val_loss = []\n",
        "        pass\n",
        "    \n",
        "    def fit(self, X, y, X_val=None, y_val=None):\n",
        "      self.create_init()\n",
        "      for epoch in range(self.n_epoch):\n",
        "          get_mini_batch = GetMiniBatch(X, y, self.batch_size)\n",
        "          for mini_X_train, mini_y_train in get_mini_batch: \n",
        "\n",
        "            # forward propagation\n",
        "            self.Z1 = self.FC1.forward_propagation(mini_X_train, self.af_name, \"first\")\n",
        "            self.Z2 = self.FC2.forward_propagation(self.Z1, self.af_name, \"hidden\")\n",
        "            self.Z3 = self.FC3.forward_propagation(self.Z2, self.af_name, \"output\")\n",
        "\n",
        "            # backward propagation\n",
        "            self.dZ2 = self.FC3.backward_propagation(None, mini_y_train, self.Z3, self.Z2 , None, \"output\")\n",
        "            self.dZ1 = self.FC2.backward_propagation(None, mini_y_train, self.Z2, self.Z1 , self.dZ2, \"hidden\")\n",
        "            self.dZ0 = self.FC1.backward_propagation(mini_X_train, mini_y_train, self.Z1, None , self.dZ1, \"first\")\n",
        "\n",
        "          self.Z1 = self.FC1.forward_propagation(X, self.af_name, \"first\")\n",
        "          self.Z2 = self.FC2.forward_propagation(self.Z1, self.af_name, \"hidden\")\n",
        "          self.Z3 = self.FC3.forward_propagation(self.Z2, self.af_name, \"output\")\n",
        "\n",
        "          self.loss.append(self.cross_entropy_error(y, self.Z3))\n",
        "\n",
        "          if X_val is not None:\n",
        "              self.Z1 = self.FC1.forward_propagation(X_val, self.af_name, \"first\")\n",
        "              self.Z2 = self.FC2.forward_propagation(self.Z1, self.af_name, \"hidden\")\n",
        "              self.Z3 = self.FC3.forward_propagation(self.Z2, self.af_name, \"output\")\n",
        "              self.val_loss.append(self.cross_entropy_error(y_val, self.Z3))\n",
        "          \n",
        "          if self.verbose:\n",
        "              # When verbose is set to True, the learning process etc. is output.\n",
        "              print(self.loss)\n",
        "          pass\n",
        "    \n",
        "    def create_init(self):\n",
        "      # setting up the optimizer\n",
        "      optimizer = None\n",
        "      if self.optimizer_name == \"sdg\":\n",
        "        optimizer = SGD(self.lr)\n",
        "      elif self.optimizer_name == \"adagrad\":\n",
        "        optimizer = Adagrad(self.lr)\n",
        "\n",
        "      # setting up the initializer\n",
        "      initializer = None\n",
        "      if self.initializer_name == \"simple\":\n",
        "        initializer = SimpleInitializer(self.sigma)\n",
        "      elif self.initializer_name == \"xavier\":\n",
        "        initializer = XavierInitializer(self.sigma)\n",
        "      elif self.initializer_name == \"he\":\n",
        "        initializer = HeInitializer(self.sigma)\n",
        "      \n",
        "      self.FC1 = FC(self.n_features, self.n_nodes1, initializer, optimizer, \"first\")\n",
        "      self.FC2 = FC(self.n_nodes1, self.n_nodes2, initializer, optimizer, \"hidden\")\n",
        "      self.FC3 = FC(self.n_nodes2, self.n_output, initializer, optimizer, \"output\")\n",
        "    \n",
        "    def activation_function(self,X, layer):\n",
        "      if layer == \"hidden\" or layer == \"first\":\n",
        "        act_f = np.tanh(X)\n",
        "        return act_f\n",
        "      else: \n",
        "        act_f = np.exp(X) / np.sum(np.exp(X), axis=1).reshape(-1, 1)\n",
        "        return act_f\n",
        "\n",
        "    def cross_entropy_error(self, y, Z):\n",
        "      return -np.sum([y[i]*np.log2(Z[i]) for i in range(len(y))])\n",
        "\n",
        "    def predict(self, X):\n",
        "      self.Z1 = self.FC1.forward_propagation(X, self.af_name, \"first\")\n",
        "      self.Z2 = self.FC2.forward_propagation(self.Z1, self.af_name, \"hidden\")\n",
        "      self.Z3 = self.FC3.forward_propagation(self.Z2, self.af_name, \"output\")\n",
        "      return np.argmax(self.Z3, axis=1)"
      ],
      "execution_count": 23,
      "outputs": []
    },
    {
      "cell_type": "code",
      "metadata": {
        "id": "DWzq3omNfhVS"
      },
      "source": [
        "model = ScratchDeepNeuralNetrowkClassifier(verbose = False, n_features=784, n_nodes1=400, n_nodes2=200, batch_size=20, n_output=10, n_epoch=10, lr=0.01, sigma=0.02, initializer_name=\"simple\", optimizer_name=\"sdg\", af_name=\"tanh\")\r\n",
        "model.fit(X_train,y_train_one_hot,X_val,y_test_one_hot)\r\n",
        "y_pred = model.predict(X_val)"
      ],
      "execution_count": 24,
      "outputs": []
    },
    {
      "cell_type": "code",
      "metadata": {
        "id": "eDlDghCRLurQ",
        "colab": {
          "base_uri": "https://localhost:8080/"
        },
        "outputId": "51608ac0-ba81-4eda-a43b-a96cf6b74ba2"
      },
      "source": [
        "accuracy_score(y_val, y_pred)"
      ],
      "execution_count": 25,
      "outputs": [
        {
          "output_type": "execute_result",
          "data": {
            "text/plain": [
              "0.977"
            ]
          },
          "metadata": {
            "tags": []
          },
          "execution_count": 25
        }
      ]
    },
    {
      "cell_type": "code",
      "metadata": {
        "id": "xkr6O84iwjnk",
        "outputId": "6c2d58c1-652f-4af0-d0d5-d06cf3ce9cb5",
        "colab": {
          "base_uri": "https://localhost:8080/",
          "height": 501
        }
      },
      "source": [
        "fig = plt.subplots(figsize=(12,8))\r\n",
        "plt.rcParams[\"font.size\"] = 20\r\n",
        "\r\n",
        "plt.plot(model.loss,'rs--', label=\"train\")\r\n",
        "plt.plot(model.val_loss,'bo--', label= \"val\")\r\n",
        "plt.legend()"
      ],
      "execution_count": 26,
      "outputs": [
        {
          "output_type": "execute_result",
          "data": {
            "text/plain": [
              "<matplotlib.legend.Legend at 0x7f889398cf90>"
            ]
          },
          "metadata": {
            "tags": []
          },
          "execution_count": 26
        },
        {
          "output_type": "display_data",
          "data": {
            "image/png": "[encoded data removed]",
            "text/plain": [
              "<Figure size 864x576 with 1 Axes>"
            ]
          },
          "metadata": {
            "tags": [],
            "needs_background": "light"
          }
        }
      ]
    }
  ]
}