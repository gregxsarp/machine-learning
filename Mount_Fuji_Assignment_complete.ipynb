{
  "nbformat": 4,
  "nbformat_minor": 0,
  "metadata": {
    "colab": {
      "provenance": [],
      "authorship_tag": "ABX9TyPF/1fI0IdhrdV2zb/ALXQt",
      "include_colab_link": true
    },
    "kernelspec": {
      "name": "python3",
      "display_name": "Python 3"
    },
    "language_info": {
      "name": "python"
    }
  },
  "cells": [
    {
      "cell_type": "markdown",
      "metadata": {
        "id": "view-in-github",
        "colab_type": "text"
      },
      "source": [
        "<a href=\"https://colab.research.google.com/github/davidproton4u/AI-sampleassng/blob/main/Mount_Fuji_Assignment_complete.ipynb\" target=\"_parent\"><img src=\"https://colab.research.google.com/assets/colab-badge.svg\" alt=\"Open In Colab\"/></a>"
      ]
    },
    {
      "cell_type": "markdown",
      "source": [
        "#Mount Fuji - Assignment"
      ],
      "metadata": {
        "id": "C4B5hXK73k21"
      }
    },
    {
      "cell_type": "code",
      "source": [
        "# Creating a function for Mount Fuji\n",
        "Mount_Fuji = 3776\n",
        "Thickness = 0.00008\n",
        "\n",
        "def folds_exceed_height(height=1000, thickness=0.00008):\n",
        "    if height < thickness:\n",
        "        return 0\n",
        "    folded_thickness = 0\n",
        "    i = 0\n",
        "    while height > folded_thickness:\n",
        "        i += 1\n",
        "        folded_thickness = thickness * 2 ** i\n",
        "    return i\n",
        "print(folds_exceed_height(Mount_Fuji, Thickness))"
      ],
      "metadata": {
        "colab": {
          "base_uri": "https://localhost:8080/"
        },
        "id": "Y1_2MBiE3jja",
        "outputId": "dbe10db9-89cf-4103-dd8c-e26f8e1c63d1"
      },
      "execution_count": null,
      "outputs": [
        {
          "output_type": "stream",
          "name": "stdout",
          "text": [
            "26\n"
          ]
        }
      ]
    },
    {
      "cell_type": "markdown",
      "source": [
        "#Arbitrary Thickness"
      ],
      "metadata": {
        "id": "oT96FxP68lTa"
      }
    },
    {
      "cell_type": "code",
      "source": [
        " #Creating a function corresponding to an Arbitrary Thickness\n",
        " #This Program is set to allow input from the user of the program\n",
        "import math\n",
        "thickness = 0.00008\n",
        "def num_of_fold(distance):\n",
        "    num_of_fold = math.log(distance/thickness)/ math.log(2)\n",
        "    return num_of_fold\n",
        "num_of_fold = num_of_fold(distance = float(input(\"Enter the Distance Here: \")))\n",
        "print(\"The number of folds for the Paper is: \", round(num_of_fold), \"Times\")"
      ],
      "metadata": {
        "colab": {
          "base_uri": "https://localhost:8080/"
        },
        "id": "Fynk7khs8jo2",
        "outputId": "0cfc6d33-6ec8-424f-dc8e-885d0f4bcab3"
      },
      "execution_count": null,
      "outputs": [
        {
          "output_type": "stream",
          "name": "stdout",
          "text": [
            "Enter the Distance Here: 50\n",
            "The number of folds for the Paper is:  19 Times\n"
          ]
        }
      ]
    },
    {
      "cell_type": "markdown",
      "source": [
        "#Closest Non-Sun Star https://imagine.gsfc.nasa.gov/features/cosmic/nearest_star_info.html"
      ],
      "metadata": {
        "id": "Ol41c0kg_h22"
      }
    },
    {
      "cell_type": "code",
      "source": [
        "#Proxima Centuri is the Closest star to earth with a distance of 40,208,000,000,000 km.\n",
        "import math\n",
        "thickness = 0.00008\n",
        "def num_of_fold(distance):\n",
        "    num_of_folds = math.log(distance/thickness)/ math.log(2)\n",
        "    return num_of_folds\n",
        "num_of_folds = num_of_fold(distance = 40208000000000)\n",
        "print(\"The number of folds is: \", round(num_of_folds), \"times\")"
      ],
      "metadata": {
        "colab": {
          "base_uri": "https://localhost:8080/"
        },
        "id": "loXHcxYi_abq",
        "outputId": "b2992bc4-7d1d-4748-e788-f56c63109221"
      },
      "execution_count": null,
      "outputs": [
        {
          "output_type": "stream",
          "name": "stdout",
          "text": [
            "The number of folds is:  59 times\n"
          ]
        }
      ]
    },
    {
      "cell_type": "markdown",
      "source": [
        "#Required Paper Length"
      ],
      "metadata": {
        "id": "kyDDFG5bDXGE"
      }
    },
    {
      "cell_type": "code",
      "source": [
        "import math\n",
        "\n",
        "def required_length(number_of_fold, thickness=0.00008):\n",
        "    length = (math.pi * thickness * (2**number_of_fold + 4) * (2**number_of_fold -1)) / 6\n",
        "    return int(length)\n",
        "\n",
        "print(required_length(\n",
        "    folds_exceed_height(Mount_Fuji, Thickness) #This is from the Previous Function\n",
        "))"
      ],
      "metadata": {
        "colab": {
          "base_uri": "https://localhost:8080/"
        },
        "id": "oYDjvlc6DVRa",
        "outputId": "85b2989a-785b-4c9b-ce4c-2db0a23ae8ce"
      },
      "execution_count": null,
      "outputs": [
        {
          "output_type": "stream",
          "name": "stdout",
          "text": [
            "188646348487\n"
          ]
        }
      ]
    },
    {
      "cell_type": "markdown",
      "source": [
        "#The Length of the paper Needed to Reach the Moon"
      ],
      "metadata": {
        "id": "ZnHUBLxPGHGj"
      }
    },
    {
      "cell_type": "code",
      "source": [
        "import math\n",
        "moon = 384400\n",
        "def required_length(number_of_fold, thickness=0.00008):\n",
        "    length = (math.pi * thickness * (2**number_of_fold + 4) * (2**number_of_fold -1)) / 6\n",
        "    return int(length)\n",
        "\n",
        "print(required_length(\n",
        "    folds_exceed_height(moon, Thickness) #This is from the Previous Function\n",
        "))"
      ],
      "metadata": {
        "colab": {
          "base_uri": "https://localhost:8080/"
        },
        "id": "KUV_WPaqGBZ6",
        "outputId": "041b99a6-fc11-4102-c20d-ce7e10cf8abf"
      },
      "execution_count": null,
      "outputs": [
        {
          "output_type": "stream",
          "name": "stdout",
          "text": [
            "3090781636525682\n"
          ]
        }
      ]
    },
    {
      "cell_type": "code",
      "source": [
        "#Alpha Centauri\n",
        "alpha_centauri = 39924000000000\n",
        "def required_length(number_of_fold, thickness=0.00008):\n",
        "    length = (math.pi * thickness * (2**number_of_fold + 4) * (2**number_of_fold -1)) / 6\n",
        "    return int(length)\n",
        "\n",
        "print(required_length(\n",
        "    folds_exceed_height(alpha_centauri, Thickness) #This is from the Previous Function\n",
        "))"
      ],
      "metadata": {
        "colab": {
          "base_uri": "https://localhost:8080/"
        },
        "id": "gatXch-UHqoJ",
        "outputId": "9785861e-5e50-46e0-ce1d-1c5629b792ca"
      },
      "execution_count": null,
      "outputs": [
        {
          "output_type": "stream",
          "name": "stdout",
          "text": [
            "13919643021679256423558956449792\n"
          ]
        }
      ]
    }
  ]
}