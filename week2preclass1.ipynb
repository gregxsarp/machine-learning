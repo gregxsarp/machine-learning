{
 "cells": [
  {
   "cell_type": "code",
   "execution_count": 45,
   "metadata": {},
   "outputs": [
    {
     "name": "stdout",
     "output_type": "stream",
     "text": [
      "Arrange wheat on a plate of 2 squares (list): [1, 2, 4, 8]\n",
      "Arrange wheat on a 2 square plate (ndarray): [[1 2]\n",
      " [4 8]]\n"
     ]
    }
   ],
   "source": [
    "# problem 1\n",
    "import numpy as np\n",
    "\n",
    "n_squares = 2\n",
    "small_board_list = [ 1 ] \n",
    "\n",
    "for _ in range (n_squares+1 ): \n",
    "    small_board_list.append ( 2 * small_board_list [- 1 ]) \n",
    "    \n",
    "small_board_ndarray = np.array(small_board_list)\n",
    "\n",
    "print ( \"Arrange wheat on a plate of 2 squares (list): {}\".format(small_board_list))\n",
    "print ( \"Arrange wheat on a 2 square plate (ndarray): {}\".format(np.reshape(small_board_ndarray,(2,2))))"
   ]
  },
  {
   "cell_type": "code",
   "execution_count": 15,
   "metadata": {},
   "outputs": [
    {
     "name": "stdout",
     "output_type": "stream",
     "text": [
      "total number of wheats on an 8x8 chessboard (ndarray):1.8446744073709552e+19\n"
     ]
    }
   ],
   "source": [
    "# problem 2\n",
    "import numpy as np\n",
    "\n",
    "def calculate_wheat_on_chess_board(n,m):\n",
    "    \n",
    "    SQUARES_ON_CHESS_BOARD=n*m\n",
    "    \n",
    "    WHEAT = 1\n",
    "\n",
    "    wheat_per_square = []\n",
    "\n",
    "    for square in range(SQUARES_ON_CHESS_BOARD):\n",
    "      if square == 0:\n",
    "        wheat_per_square.append(WHEAT)\n",
    "      else:\n",
    "        wheat_per_square.append((WHEAT*2)**square)\n",
    "    \n",
    "    ndarray_to_be_returned = np.array(wheat_per_square)\n",
    "    \n",
    "    return ndarray_to_be_returned\n",
    "\n",
    "# total number of wheats\n",
    "print(\"total number of wheats on an 8x8 chessboard (ndarray):{}\".format(sum(calculate_wheat_on_chess_board(8,8))))"
   ]
  },
  {
   "cell_type": "code",
   "execution_count": 126,
   "metadata": {},
   "outputs": [
    {
     "data": {
      "image/png": "[encoded data removed]",
      "text/plain": [
       "<Figure size 432x288 with 1 Axes>"
      ]
     },
     "metadata": {
      "needs_background": "light"
     },
     "output_type": "display_data"
    }
   ],
   "source": [
    "# problem 3\n",
    "import matplotlib.pyplot as  plt\n",
    "\n",
    "ndarray_to_be_visualized = np.reshape(calculate_wheat_on_chess_board(8,8),(8,8))\n",
    "\n",
    "plt.xlabel ( \"column\" ) \n",
    "plt.ylabel ( \"number\" ) \n",
    "plt.title ( \"number in each column\" ) \n",
    "plt.bar (np.arange ( 1 , 8 ), np.average(ndarray_to_be_visualized))\n",
    "plt.show()"
   ]
  },
  {
   "cell_type": "code",
   "execution_count": 127,
   "metadata": {},
   "outputs": [
    {
     "data": {
      "image/png": "[encoded data removed]",
      "text/plain": [
       "<Figure size 432x288 with 1 Axes>"
      ]
     },
     "metadata": {
      "needs_background": "light"
     },
     "output_type": "display_data"
    }
   ],
   "source": [
    "# problem 4\n",
    "plt.xlabel ( \"column\" ) \n",
    "plt.ylabel ( \"row\" ) \n",
    "plt.title ( \"heatmap\" ) \n",
    "plt.pcolor (ndarray_to_be_visualized)\n",
    "plt.show()"
   ]
  },
  {
   "cell_type": "code",
   "execution_count": 143,
   "metadata": {},
   "outputs": [
    {
     "name": "stdout",
     "output_type": "stream",
     "text": [
      "the solution is 4294967296.0 times\n"
     ]
    }
   ],
   "source": [
    "# problem 5\n",
    "\n",
    "first_half = []\n",
    "second_half = []\n",
    "\n",
    "def get_two_parts_of_array():\n",
    "    for row in range(len(ndarray_to_be_visualized)):\n",
    "        if(row < (len(ndarray_to_be_visualized)/2)):\n",
    "            first_half.append(ndarray_to_be_visualized[row])\n",
    "        else:\n",
    "            second_half.append(ndarray_to_be_visualized[row])\n",
    "\n",
    "get_two_parts_of_array()\n",
    "\n",
    "sum_of_first_half = sum(np.array(first_half).reshape(32))\n",
    "sum_of_second_half = sum(np.array(second_half).reshape(32))\n",
    "\n",
    "how_many_times_is_the_second_half_of_the_first_half = sum_of_second_half//sum_of_first_half\n",
    "\n",
    "print(\"the solution is {} times\".format(how_many_times_is_the_second_half_of_the_first_half))"
   ]
  },
  {
   "cell_type": "code",
   "execution_count": 14,
   "metadata": {},
   "outputs": [
    {
     "name": "stdout",
     "output_type": "stream",
     "text": [
      "total number of wheats on an 8x8 chessboard (ndarray):1.8446744073709552e+19\n",
      "total number of wheats on an 8x8 chessboard (ndarray):1.8446744073709552e+19\n"
     ]
    }
   ],
   "source": [
    "# problem 6\n",
    "import numpy as np\n",
    "\n",
    "def calculate_wheat_on_chess_board_then_append(n,m):\n",
    "    \n",
    "    number_of_squares = n*m\n",
    "    small_board_ndarray = np.array([ 1 ]).astype(np.uint64)\n",
    "    for _ in range (number_of_squares-1): \n",
    "     small_board_ndarray = np.append(small_board_ndarray, 2*small_board_ndarray[-1]) \n",
    "    return small_board_ndarray\n",
    "\n",
    "def calculate_wheat_on_chess_board_then_broadcast(n,m):\n",
    "    \n",
    "    number_squares_2 = n*m\n",
    "    indices_of_squares = np.arange(number_squares_2).astype(np.uint64) \n",
    "    small_board_ndarray_2 = 2**indices_of_squares \n",
    "    return small_board_ndarray_2\n",
    "\n",
    "print(\"total number of wheats on an 8x8 chessboard (ndarray):{}\".format(sum(calculate_wheat_on_chess_board_then_append(8,8))))\n",
    "print(\"total number of wheats on an 8x8 chessboard (ndarray):{}\".format(sum(calculate_wheat_on_chess_board_then_broadcast(8,8))))"
   ]
  },
  {
   "cell_type": "code",
   "execution_count": 17,
   "metadata": {},
   "outputs": [
    {
     "name": "stdout",
     "output_type": "stream",
     "text": [
      "184 µs ± 12.4 µs per loop (mean ± std. dev. of 7 runs, 1000 loops each)\n"
     ]
    }
   ],
   "source": [
    "%%timeit\n",
    "# problem 7.1\n",
    "\n",
    "calculate_wheat_on_chess_board(8,8)"
   ]
  },
  {
   "cell_type": "code",
   "execution_count": 18,
   "metadata": {},
   "outputs": [
    {
     "name": "stdout",
     "output_type": "stream",
     "text": [
      "2.45 ms ± 84.9 µs per loop (mean ± std. dev. of 7 runs, 100 loops each)\n"
     ]
    }
   ],
   "source": [
    "%%timeit\n",
    "# problem 7.2\n",
    "\n",
    "calculate_wheat_on_chess_board_then_append(8,8)"
   ]
  },
  {
   "cell_type": "code",
   "execution_count": 19,
   "metadata": {},
   "outputs": [
    {
     "name": "stdout",
     "output_type": "stream",
     "text": [
      "20.1 µs ± 712 ns per loop (mean ± std. dev. of 7 runs, 10000 loops each)\n"
     ]
    }
   ],
   "source": [
    "%%timeit\n",
    "# problem 7.3\n",
    "\n",
    "calculate_wheat_on_chess_board_then_broadcast(8,8)"
   ]
  },
  {
   "cell_type": "code",
   "execution_count": null,
   "metadata": {},
   "outputs": [],
   "source": []
  }
 ],
 "metadata": {
  "kernelspec": {
   "display_name": "Python 3",
   "language": "python",
   "name": "python3"
  },
  "language_info": {
   "codemirror_mode": {
    "name": "ipython",
    "version": 3
   },
   "file_extension": ".py",
   "mimetype": "text/x-python",
   "name": "python",
   "nbconvert_exporter": "python",
   "pygments_lexer": "ipython3",
   "version": "3.7.6"
  }
 },
 "nbformat": 4,
 "nbformat_minor": 4
}
