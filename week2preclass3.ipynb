{
 "cells": [
  {
   "cell_type": "markdown",
   "metadata": {},
   "source": [
    "### problem 1\n",
    "\n",
    "*question:*\n",
    "$$A=\\begin{bmatrix}-1&2&3\\\\\n",
    "4&-1&6\\\\\n",
    "7&8&-9\n",
    "\\end{bmatrix},B=\\begin{bmatrix}0&2&1\\\\\n",
    "0&2&-8\\\\\n",
    "2&9&-1\n",
    "\\end{bmatrix}$$\n",
    "\n",
    "*answer:*\n",
    "$$\n",
    "\\begin{bmatrix}(-1*0)+(2*0)+(3*2)&(-1*2)+(2*2)+(3*9)&(-1*1)+(2*8)+(3*-1)\\\\\n",
    "(4*0)+(-5*0)+(6*2)&(4*2)+(-5*2)+(6*9)&(4*1)+(-5*-8)+(6*-1)\\\\\n",
    "(7*0)+(8*0)+(-9*2)&(7*2)+(8*2)+(-9*2)&(7*1)+(8*-8)+(-9*-1)\n",
    "\\end{bmatrix}\n",
    "$$\n",
    "\n",
    "**final answer**\n",
    "$$\n",
    "\\begin{bmatrix}\n",
    "6&29&-20\\\\\n",
    "12&52&38\\\\\n",
    "-18&12&-48\n",
    "\\end{bmatrix}\n",
    "$$"
   ]
  },
  {
   "cell_type": "code",
   "execution_count": 2,
   "metadata": {},
   "outputs": [
    {
     "name": "stdout",
     "output_type": "stream",
     "text": [
      "[[  6  29 -20]\n",
      " [ 12  52  38]\n",
      " [-18 -51 -48]]\n"
     ]
    }
   ],
   "source": [
    "# problem 2\n",
    "import   numpy   as  np \n",
    "a_ndarray = np.array([[-1  ,  2  ,  3  ], [  4  ,-5  ,  6  ], [  7  ,  8  ,-9  ]]) \n",
    "b_ndarray = np.array([[  0  ,  2  ,  1  ], [  0  ,  2  ,-  8  ], [  2  ,  9  ,-1 ]])\n",
    "answer_1 = np.matmul(a_ndarray,b_ndarray)\n",
    "print(answer_1)"
   ]
  },
  {
   "cell_type": "code",
   "execution_count": 8,
   "metadata": {},
   "outputs": [
    {
     "name": "stdout",
     "output_type": "stream",
     "text": [
      "10\n"
     ]
    }
   ],
   "source": [
    "# problem 3\n",
    "# answer_2 = np.empty([3,3])\n",
    "# for row in range(a_ndarray.shape[0]):\n",
    "#     for column in range(b_ndarray.shape[1]):\n",
    "#         answer_2[row][column]=sum(a_ndarray[row,:]*b_ndarray[:,column])\n",
    "\n",
    "answer_2 = (a_ndarray[0][0]*b_ndarray[0][0])+(a_ndarray[0][1]*b_ndarray[0][1])+(a_ndarray[0][2]*b_ndarray[2][0])\n",
    "print(answer_2)"
   ]
  },
  {
   "cell_type": "code",
   "execution_count": 7,
   "metadata": {},
   "outputs": [
    {
     "name": "stdout",
     "output_type": "stream",
     "text": [
      "[[  6.  29. -20.]\n",
      " [ 12.  52.  38.]\n",
      " [-18. -51. -48.]]\n"
     ]
    }
   ],
   "source": [
    "# problem 4\n",
    "def calculate_matrix(a,b):\n",
    "    answer_2_1 = np.empty([3,3])\n",
    "    for row_1 in range(a.shape[0]):\n",
    "        for column_1 in range(b.shape[1]):\n",
    "            answer_2_1[row_1][column_1] = sum(a[row_1,:]*b[:,column_1])\n",
    "    return answer_2_1\n",
    "print(calculate_matrix(a_ndarray,b_ndarray))"
   ]
  },
  {
   "cell_type": "code",
   "execution_count": 25,
   "metadata": {},
   "outputs": [
    {
     "name": "stdout",
     "output_type": "stream",
     "text": [
      "this matrix can not be calculated\n"
     ]
    }
   ],
   "source": [
    "# problem 5\n",
    "d_ndarray = np.array([[-1, 2, 3], [4, -5, 6]])\n",
    "e_ndarray = np.array([[-9, 8, 7], [6, -5, 4]])\n",
    "if(d_ndarray.shape[0]==e_ndarray.shape[1]):\n",
    "    print(calculate_matrix(d_ndarray,e_ndarray))\n",
    "else:\n",
    "    print(\"this matrix can not be calculated\")"
   ]
  },
  {
   "cell_type": "code",
   "execution_count": 29,
   "metadata": {},
   "outputs": [
    {
     "name": "stdout",
     "output_type": "stream",
     "text": [
      "this matrix can be calculated\n"
     ]
    }
   ],
   "source": [
    "# problem 6\n",
    "def calculate_matrix_2(a,b):\n",
    "    if(a.shape[0]==b.shape[1]):\n",
    "        answer_2_1 = np.empty([3,3])\n",
    "        for row_1 in range(a.shape[0]):\n",
    "            for column_1 in range(b.shape[1]):\n",
    "                answer_2[row_1][column_1]=sum(a[row_1,:]*b[:,column_1])\n",
    "        return answer_2_1\n",
    "    else:\n",
    "        return \"this matrix can be calculated\"\n",
    "print(calculate_matrix_2(d_ndarray,e_ndarray))"
   ]
  },
  {
   "cell_type": "code",
   "execution_count": 35,
   "metadata": {},
   "outputs": [
    {
     "name": "stdout",
     "output_type": "stream",
     "text": [
      "after transpose [[-9  6]\n",
      " [ 8 -5]\n",
      " [ 7  4]]\n",
      "------------------------------\n",
      "solution [[ 6. 29. 20.]\n",
      " [12. 52. 38.]\n",
      " [18. 51. 48.]]\n"
     ]
    }
   ],
   "source": [
    "# problem 7\n",
    "transposed_ndarray = np.transpose(e_ndarray)\n",
    "print(\"after transpose {}\".format(transposed_e_ndarray))\n",
    "print(\"------------------------------\")\n",
    "print(\"solution {}\".format(calculate_matrix_2(d_ndarray,transposed_ndarray)))"
   ]
  }
 ],
 "metadata": {
  "kernelspec": {
   "display_name": "Python 3",
   "language": "python",
   "name": "python3"
  },
  "language_info": {
   "codemirror_mode": {
    "name": "ipython",
    "version": 3
   },
   "file_extension": ".py",
   "mimetype": "text/x-python",
   "name": "python",
   "nbconvert_exporter": "python",
   "pygments_lexer": "ipython3",
   "version": "3.7.6"
  }
 },
 "nbformat": 4,
 "nbformat_minor": 4
}
