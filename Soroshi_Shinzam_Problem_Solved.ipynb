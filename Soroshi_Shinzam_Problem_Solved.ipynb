{
  "nbformat": 4,
  "nbformat_minor": 0,
  "metadata": {
    "colab": {
      "provenance": [],
      "authorship_tag": "ABX9TyNHhnif0aqVzpVA72FHFVPF",
      "include_colab_link": true
    },
    "kernelspec": {
      "name": "python3",
      "display_name": "Python 3"
    },
    "language_info": {
      "name": "python"
    }
  },
  "cells": [
    {
      "cell_type": "markdown",
      "metadata": {
        "id": "view-in-github",
        "colab_type": "text"
      },
      "source": [
        "<a href=\"https://colab.research.google.com/github/davidproton4u/AI-sampleassng/blob/main/Soroshi_Shinzam_Problem_Solved.ipynb\" target=\"_parent\"><img src=\"https://colab.research.google.com/assets/colab-badge.svg\" alt=\"Open In Colab\"/></a>"
      ]
    },
    {
      "cell_type": "markdown",
      "source": [
        "PROBLEM ONE - NUMBER OF GRAINS IN A 100TH DAY"
      ],
      "metadata": {
        "id": "7fmjdVaVDRnM"
      }
    },
    {
      "cell_type": "code",
      "execution_count": null,
      "metadata": {
        "colab": {
          "base_uri": "https://localhost:8080/"
        },
        "id": "k2E3E5tO9BBx",
        "outputId": "04add640-3c1c-4ff3-b89a-50f8e04052d0"
      },
      "outputs": [
        {
          "output_type": "stream",
          "name": "stdout",
          "text": [
            "1 1\n",
            "Sum of Rice in 1 days is: 2\n",
            "2 2\n",
            "Sum of Rice in 2 days is: 4\n",
            "3 4\n",
            "Sum of Rice in 3 days is: 8\n",
            "4 8\n",
            "Sum of Rice in 4 days is: 16\n",
            "5 16\n",
            "Sum of Rice in 5 days is: 32\n",
            "6 32\n",
            "Sum of Rice in 6 days is: 64\n",
            "7 64\n",
            "Sum of Rice in 7 days is: 128\n",
            "8 128\n",
            "Sum of Rice in 8 days is: 256\n",
            "9 256\n",
            "Sum of Rice in 9 days is: 512\n",
            "10 512\n",
            "Sum of Rice in 10 days is: 1024\n",
            "11 1024\n",
            "Sum of Rice in 11 days is: 2048\n",
            "12 2048\n",
            "Sum of Rice in 12 days is: 4096\n",
            "13 4096\n",
            "Sum of Rice in 13 days is: 8192\n",
            "14 8192\n",
            "Sum of Rice in 14 days is: 16384\n",
            "15 16384\n",
            "Sum of Rice in 15 days is: 32768\n",
            "16 32768\n",
            "Sum of Rice in 16 days is: 65536\n",
            "17 65536\n",
            "Sum of Rice in 17 days is: 131072\n",
            "18 131072\n",
            "Sum of Rice in 18 days is: 262144\n",
            "19 262144\n",
            "Sum of Rice in 19 days is: 524288\n",
            "20 524288\n",
            "Sum of Rice in 20 days is: 1048576\n",
            "21 1048576\n",
            "Sum of Rice in 21 days is: 2097152\n",
            "22 2097152\n",
            "Sum of Rice in 22 days is: 4194304\n",
            "23 4194304\n",
            "Sum of Rice in 23 days is: 8388608\n",
            "24 8388608\n",
            "Sum of Rice in 24 days is: 16777216\n",
            "25 16777216\n",
            "Sum of Rice in 25 days is: 33554432\n",
            "26 33554432\n",
            "Sum of Rice in 26 days is: 67108864\n",
            "27 67108864\n",
            "Sum of Rice in 27 days is: 134217728\n",
            "28 134217728\n",
            "Sum of Rice in 28 days is: 268435456\n",
            "29 268435456\n",
            "Sum of Rice in 29 days is: 536870912\n",
            "30 536870912\n",
            "Sum of Rice in 30 days is: 1073741824\n",
            "31 1073741824\n",
            "Sum of Rice in 31 days is: 2147483648\n",
            "32 2147483648\n",
            "Sum of Rice in 32 days is: 4294967296\n",
            "33 4294967296\n",
            "Sum of Rice in 33 days is: 8589934592\n",
            "34 8589934592\n",
            "Sum of Rice in 34 days is: 17179869184\n",
            "35 17179869184\n",
            "Sum of Rice in 35 days is: 34359738368\n",
            "36 34359738368\n",
            "Sum of Rice in 36 days is: 68719476736\n",
            "37 68719476736\n",
            "Sum of Rice in 37 days is: 137438953472\n",
            "38 137438953472\n",
            "Sum of Rice in 38 days is: 274877906944\n",
            "39 274877906944\n",
            "Sum of Rice in 39 days is: 549755813888\n",
            "40 549755813888\n",
            "Sum of Rice in 40 days is: 1099511627776\n",
            "41 1099511627776\n",
            "Sum of Rice in 41 days is: 2199023255552\n",
            "42 2199023255552\n",
            "Sum of Rice in 42 days is: 4398046511104\n",
            "43 4398046511104\n",
            "Sum of Rice in 43 days is: 8796093022208\n",
            "44 8796093022208\n",
            "Sum of Rice in 44 days is: 17592186044416\n",
            "45 17592186044416\n",
            "Sum of Rice in 45 days is: 35184372088832\n",
            "46 35184372088832\n",
            "Sum of Rice in 46 days is: 70368744177664\n",
            "47 70368744177664\n",
            "Sum of Rice in 47 days is: 140737488355328\n",
            "48 140737488355328\n",
            "Sum of Rice in 48 days is: 281474976710656\n",
            "49 281474976710656\n",
            "Sum of Rice in 49 days is: 562949953421312\n",
            "50 562949953421312\n",
            "Sum of Rice in 50 days is: 1125899906842624\n",
            "51 1125899906842624\n",
            "Sum of Rice in 51 days is: 2251799813685248\n",
            "52 2251799813685248\n",
            "Sum of Rice in 52 days is: 4503599627370496\n",
            "53 4503599627370496\n",
            "Sum of Rice in 53 days is: 9007199254740992\n",
            "54 9007199254740992\n",
            "Sum of Rice in 54 days is: 18014398509481984\n",
            "55 18014398509481984\n",
            "Sum of Rice in 55 days is: 36028797018963968\n",
            "56 36028797018963968\n",
            "Sum of Rice in 56 days is: 72057594037927936\n",
            "57 72057594037927936\n",
            "Sum of Rice in 57 days is: 144115188075855872\n",
            "58 144115188075855872\n",
            "Sum of Rice in 58 days is: 288230376151711744\n",
            "59 288230376151711744\n",
            "Sum of Rice in 59 days is: 576460752303423488\n",
            "60 576460752303423488\n",
            "Sum of Rice in 60 days is: 1152921504606846976\n",
            "61 1152921504606846976\n",
            "Sum of Rice in 61 days is: 2305843009213693952\n",
            "62 2305843009213693952\n",
            "Sum of Rice in 62 days is: 4611686018427387904\n",
            "63 4611686018427387904\n",
            "Sum of Rice in 63 days is: 9223372036854775808\n",
            "64 9223372036854775808\n",
            "Sum of Rice in 64 days is: 18446744073709551616\n",
            "65 18446744073709551616\n",
            "Sum of Rice in 65 days is: 36893488147419103232\n",
            "66 36893488147419103232\n",
            "Sum of Rice in 66 days is: 73786976294838206464\n",
            "67 73786976294838206464\n",
            "Sum of Rice in 67 days is: 147573952589676412928\n",
            "68 147573952589676412928\n",
            "Sum of Rice in 68 days is: 295147905179352825856\n",
            "69 295147905179352825856\n",
            "Sum of Rice in 69 days is: 590295810358705651712\n",
            "70 590295810358705651712\n",
            "Sum of Rice in 70 days is: 1180591620717411303424\n",
            "71 1180591620717411303424\n",
            "Sum of Rice in 71 days is: 2361183241434822606848\n",
            "72 2361183241434822606848\n",
            "Sum of Rice in 72 days is: 4722366482869645213696\n",
            "73 4722366482869645213696\n",
            "Sum of Rice in 73 days is: 9444732965739290427392\n",
            "74 9444732965739290427392\n",
            "Sum of Rice in 74 days is: 18889465931478580854784\n",
            "75 18889465931478580854784\n",
            "Sum of Rice in 75 days is: 37778931862957161709568\n",
            "76 37778931862957161709568\n",
            "Sum of Rice in 76 days is: 75557863725914323419136\n",
            "77 75557863725914323419136\n",
            "Sum of Rice in 77 days is: 151115727451828646838272\n",
            "78 151115727451828646838272\n",
            "Sum of Rice in 78 days is: 302231454903657293676544\n",
            "79 302231454903657293676544\n",
            "Sum of Rice in 79 days is: 604462909807314587353088\n",
            "80 604462909807314587353088\n",
            "Sum of Rice in 80 days is: 1208925819614629174706176\n",
            "81 1208925819614629174706176\n",
            "Sum of Rice in 81 days is: 2417851639229258349412352\n",
            "82 2417851639229258349412352\n",
            "Sum of Rice in 82 days is: 4835703278458516698824704\n",
            "83 4835703278458516698824704\n",
            "Sum of Rice in 83 days is: 9671406556917033397649408\n",
            "84 9671406556917033397649408\n",
            "Sum of Rice in 84 days is: 19342813113834066795298816\n",
            "85 19342813113834066795298816\n",
            "Sum of Rice in 85 days is: 38685626227668133590597632\n",
            "86 38685626227668133590597632\n",
            "Sum of Rice in 86 days is: 77371252455336267181195264\n",
            "87 77371252455336267181195264\n",
            "Sum of Rice in 87 days is: 154742504910672534362390528\n",
            "88 154742504910672534362390528\n",
            "Sum of Rice in 88 days is: 309485009821345068724781056\n",
            "89 309485009821345068724781056\n",
            "Sum of Rice in 89 days is: 618970019642690137449562112\n",
            "90 618970019642690137449562112\n",
            "Sum of Rice in 90 days is: 1237940039285380274899124224\n",
            "91 1237940039285380274899124224\n",
            "Sum of Rice in 91 days is: 2475880078570760549798248448\n",
            "92 2475880078570760549798248448\n",
            "Sum of Rice in 92 days is: 4951760157141521099596496896\n",
            "93 4951760157141521099596496896\n",
            "Sum of Rice in 93 days is: 9903520314283042199192993792\n",
            "94 9903520314283042199192993792\n",
            "Sum of Rice in 94 days is: 19807040628566084398385987584\n",
            "95 19807040628566084398385987584\n",
            "Sum of Rice in 95 days is: 39614081257132168796771975168\n",
            "96 39614081257132168796771975168\n",
            "Sum of Rice in 96 days is: 79228162514264337593543950336\n",
            "97 79228162514264337593543950336\n",
            "Sum of Rice in 97 days is: 158456325028528675187087900672\n",
            "98 158456325028528675187087900672\n",
            "Sum of Rice in 98 days is: 316912650057057350374175801344\n",
            "99 316912650057057350374175801344\n",
            "Sum of Rice in 99 days is: 633825300114114700748351602688\n",
            "100 633825300114114700748351602688\n",
            "Sum of Rice in 100 days is: 1267650600228229401496703205376\n"
          ]
        }
      ],
      "source": [
        "#Problem One - Number of Grains\n",
        "number_days = 100\n",
        "total_grain_rice = 1\n",
        "\n",
        "for i in range(1, number_days + 1):\n",
        "    print(i, total_grain_rice) #This shows the amount of grains collected in a day\n",
        "    total_grain_rice *=2\n",
        "\n",
        "    #Grains of Rice in the 100th day would be represented below\n",
        "    print(\"Sum of Rice in\", i, \"days is:\", total_grain_rice)"
      ]
    },
    {
      "cell_type": "code",
      "source": [
        "number_days = 100\n",
        "total_grain_rice = 1\n",
        "#creating the values for the x and y axis\n",
        "yaxis = []\n",
        "xaxis = list(range(1, number_days + 1))\n",
        "\n",
        "for i in range(1, number_days + 1,):\n",
        "    #Listing the change in the rice grain\n",
        "    print(\"for day: {} the total grain is: {}\".format(i, total_grain_rice))\n",
        "\n",
        "    #Appending the total grain rice into the list of the yaxis\n",
        "    yaxis.append(total_grain_rice)\n",
        "    total_grain_rice = 2**i\n",
        "  \n",
        "print(\"Sum of rice in\", i, \"days is: \", total_grain_rice)"
      ],
      "metadata": {
        "colab": {
          "base_uri": "https://localhost:8080/"
        },
        "id": "Xb4LyxGKDbd8",
        "outputId": "680738de-cfec-4bdc-ff7e-f58e5c80aefc"
      },
      "execution_count": null,
      "outputs": [
        {
          "output_type": "stream",
          "name": "stdout",
          "text": [
            "for day: 1 the total grain is: 1\n",
            "for day: 2 the total grain is: 2\n",
            "for day: 3 the total grain is: 4\n",
            "for day: 4 the total grain is: 8\n",
            "for day: 5 the total grain is: 16\n",
            "for day: 6 the total grain is: 32\n",
            "for day: 7 the total grain is: 64\n",
            "for day: 8 the total grain is: 128\n",
            "for day: 9 the total grain is: 256\n",
            "for day: 10 the total grain is: 512\n",
            "for day: 11 the total grain is: 1024\n",
            "for day: 12 the total grain is: 2048\n",
            "for day: 13 the total grain is: 4096\n",
            "for day: 14 the total grain is: 8192\n",
            "for day: 15 the total grain is: 16384\n",
            "for day: 16 the total grain is: 32768\n",
            "for day: 17 the total grain is: 65536\n",
            "for day: 18 the total grain is: 131072\n",
            "for day: 19 the total grain is: 262144\n",
            "for day: 20 the total grain is: 524288\n",
            "for day: 21 the total grain is: 1048576\n",
            "for day: 22 the total grain is: 2097152\n",
            "for day: 23 the total grain is: 4194304\n",
            "for day: 24 the total grain is: 8388608\n",
            "for day: 25 the total grain is: 16777216\n",
            "for day: 26 the total grain is: 33554432\n",
            "for day: 27 the total grain is: 67108864\n",
            "for day: 28 the total grain is: 134217728\n",
            "for day: 29 the total grain is: 268435456\n",
            "for day: 30 the total grain is: 536870912\n",
            "for day: 31 the total grain is: 1073741824\n",
            "for day: 32 the total grain is: 2147483648\n",
            "for day: 33 the total grain is: 4294967296\n",
            "for day: 34 the total grain is: 8589934592\n",
            "for day: 35 the total grain is: 17179869184\n",
            "for day: 36 the total grain is: 34359738368\n",
            "for day: 37 the total grain is: 68719476736\n",
            "for day: 38 the total grain is: 137438953472\n",
            "for day: 39 the total grain is: 274877906944\n",
            "for day: 40 the total grain is: 549755813888\n",
            "for day: 41 the total grain is: 1099511627776\n",
            "for day: 42 the total grain is: 2199023255552\n",
            "for day: 43 the total grain is: 4398046511104\n",
            "for day: 44 the total grain is: 8796093022208\n",
            "for day: 45 the total grain is: 17592186044416\n",
            "for day: 46 the total grain is: 35184372088832\n",
            "for day: 47 the total grain is: 70368744177664\n",
            "for day: 48 the total grain is: 140737488355328\n",
            "for day: 49 the total grain is: 281474976710656\n",
            "for day: 50 the total grain is: 562949953421312\n",
            "for day: 51 the total grain is: 1125899906842624\n",
            "for day: 52 the total grain is: 2251799813685248\n",
            "for day: 53 the total grain is: 4503599627370496\n",
            "for day: 54 the total grain is: 9007199254740992\n",
            "for day: 55 the total grain is: 18014398509481984\n",
            "for day: 56 the total grain is: 36028797018963968\n",
            "for day: 57 the total grain is: 72057594037927936\n",
            "for day: 58 the total grain is: 144115188075855872\n",
            "for day: 59 the total grain is: 288230376151711744\n",
            "for day: 60 the total grain is: 576460752303423488\n",
            "for day: 61 the total grain is: 1152921504606846976\n",
            "for day: 62 the total grain is: 2305843009213693952\n",
            "for day: 63 the total grain is: 4611686018427387904\n",
            "for day: 64 the total grain is: 9223372036854775808\n",
            "for day: 65 the total grain is: 18446744073709551616\n",
            "for day: 66 the total grain is: 36893488147419103232\n",
            "for day: 67 the total grain is: 73786976294838206464\n",
            "for day: 68 the total grain is: 147573952589676412928\n",
            "for day: 69 the total grain is: 295147905179352825856\n",
            "for day: 70 the total grain is: 590295810358705651712\n",
            "for day: 71 the total grain is: 1180591620717411303424\n",
            "for day: 72 the total grain is: 2361183241434822606848\n",
            "for day: 73 the total grain is: 4722366482869645213696\n",
            "for day: 74 the total grain is: 9444732965739290427392\n",
            "for day: 75 the total grain is: 18889465931478580854784\n",
            "for day: 76 the total grain is: 37778931862957161709568\n",
            "for day: 77 the total grain is: 75557863725914323419136\n",
            "for day: 78 the total grain is: 151115727451828646838272\n",
            "for day: 79 the total grain is: 302231454903657293676544\n",
            "for day: 80 the total grain is: 604462909807314587353088\n",
            "for day: 81 the total grain is: 1208925819614629174706176\n",
            "for day: 82 the total grain is: 2417851639229258349412352\n",
            "for day: 83 the total grain is: 4835703278458516698824704\n",
            "for day: 84 the total grain is: 9671406556917033397649408\n",
            "for day: 85 the total grain is: 19342813113834066795298816\n",
            "for day: 86 the total grain is: 38685626227668133590597632\n",
            "for day: 87 the total grain is: 77371252455336267181195264\n",
            "for day: 88 the total grain is: 154742504910672534362390528\n",
            "for day: 89 the total grain is: 309485009821345068724781056\n",
            "for day: 90 the total grain is: 618970019642690137449562112\n",
            "for day: 91 the total grain is: 1237940039285380274899124224\n",
            "for day: 92 the total grain is: 2475880078570760549798248448\n",
            "for day: 93 the total grain is: 4951760157141521099596496896\n",
            "for day: 94 the total grain is: 9903520314283042199192993792\n",
            "for day: 95 the total grain is: 19807040628566084398385987584\n",
            "for day: 96 the total grain is: 39614081257132168796771975168\n",
            "for day: 97 the total grain is: 79228162514264337593543950336\n",
            "for day: 98 the total grain is: 158456325028528675187087900672\n",
            "for day: 99 the total grain is: 316912650057057350374175801344\n",
            "for day: 100 the total grain is: 633825300114114700748351602688\n",
            "Sum of rice in 100 days is:  1267650600228229401496703205376\n"
          ]
        }
      ]
    },
    {
      "cell_type": "markdown",
      "source": [
        "Plotting the Graph for the Above"
      ],
      "metadata": {
        "id": "-nJ5ZTMSJuW_"
      }
    },
    {
      "cell_type": "code",
      "source": [
        "#Plotting the Graph to the Answer Above\n",
        "import matplotlib.pyplot as plt\n",
        "\n",
        "plt.xlabel('Number of Days Requested')\n",
        "plt.ylabel('Number of Rice Grain')\n",
        "plt.title('Change in the Number of Rice Grain')\n",
        "plt.plot(xaxis, yaxis, linewidth=3.0)\n",
        "plt.tick_params(labelsize=10)\n",
        "plt.figure(figsize=(48,24))\n",
        "plt.show"
      ],
      "metadata": {
        "colab": {
          "base_uri": "https://localhost:8080/",
          "height": 330
        },
        "id": "yTcm134UHY09",
        "outputId": "87db5669-37d2-4e1f-e3c1-aa87c499ef87"
      },
      "execution_count": null,
      "outputs": [
        {
          "output_type": "execute_result",
          "data": {
            "text/plain": [
              "<function matplotlib.pyplot.show(*args, **kw)>"
            ]
          },
          "metadata": {},
          "execution_count": 14
        },
        {
          "output_type": "display_data",
          "data": {
            "text/plain": [
              "<Figure size 432x288 with 1 Axes>"
            ],
            "image/png": "[encoded data removed]"
          },
          "metadata": {
            "needs_background": "light"
          }
        },
        {
          "output_type": "display_data",
          "data": {
            "text/plain": [
              "<Figure size 3456x1728 with 0 Axes>"
            ]
          },
          "metadata": {}
        }
      ]
    },
    {
      "cell_type": "markdown",
      "source": [
        "Problem 2 - Number of Grains outside the 100th day"
      ],
      "metadata": {
        "id": "uU0lxl35J5dx"
      }
    },
    {
      "cell_type": "code",
      "source": [
        "#Creating a Finction to support the Work\n",
        "def compute_sorori_shinzaemon(day=100):\n",
        "    #List containing number of Days\n",
        "    list_n_grains = [(lambda x: x)(x) for x in range(1, day + 1)]\n",
        "\n",
        "    #The list below shows the total number of rice received per day\n",
        "    list_total_grains = [2**x-1 for x in range(1, day + 1) ]\n",
        "    pass\n",
        "    return list_n_grains, list_total_grains\n",
        "\"\"\"\"\n",
        "The function enclosed helps to calculate te amount of Rice a person can get for the number of days he/she has taken the course.\n",
        "It also allows for inputs from the user of the system.\n",
        "\"\"\"\n",
        "list_n_grains, list_total_grains = compute_sorori_shinzaemon(day=100)\n",
        "#Index function to call the total amount\n",
        "print(\"days: {}\".format(list_n_grains[-1]))\n",
        "#Index function to call the total amount of grains\n",
        "print(\"grains: {}\".format(list_total_grains[-1]))"
      ],
      "metadata": {
        "colab": {
          "base_uri": "https://localhost:8080/"
        },
        "id": "q_6Ad8J9KDF0",
        "outputId": "064f62a7-b6db-403a-c67d-2357c2d5c764"
      },
      "execution_count": null,
      "outputs": [
        {
          "output_type": "stream",
          "name": "stdout",
          "text": [
            "days: 100\n",
            "grains: 1267650600228229401496703205375\n"
          ]
        }
      ]
    },
    {
      "cell_type": "markdown",
      "source": [
        "Problem 3 - How many People can live for how many days with the rice we get"
      ],
      "metadata": {
        "id": "0lGJ2DxPvo8X"
      }
    },
    {
      "cell_type": "code",
      "source": [
        "#Creating a Function to support the Work\n",
        "def compute_sorori_shinzaemon(day=100):\n",
        "    #List containing number of Days\n",
        "    list_n_grains2 = [(lambda x: x)(x) for x in range(1, day + 1)]\n",
        "\n",
        "    #The list below shows the total number of rice received per day\n",
        "    list_total_grains2 = [2**x-1 for x in range(1, day + 1) ]\n",
        "    pass\n",
        "    return list_n_grains2, list_total_grains2\n",
        "\"\"\"\"\n",
        "The function enclosed helps to calculate the amount of Rice a person can get for the number of days he/she has taken the course.\n",
        "It also allows for inputs from the user of the system.\n",
        "\"\"\"\n",
        "list_n_grains2, list_total_grains2 = compute_sorori_shinzaemon(int(input(\"Number of Days to Live: \")))\n",
        "#Index function to call the total amount\n",
        "print(\"days: {}\".format(list_n_grains2[-1]))\n",
        "#Index function to call the total amount of grains\n",
        "print(\"grains: {}\".format(list_total_grains2[-1]))"
      ],
      "metadata": {
        "colab": {
          "base_uri": "https://localhost:8080/"
        },
        "id": "4iIQ0cmvvnu_",
        "outputId": "bbb85217-5701-42c4-ae41-0dda92518753"
      },
      "execution_count": null,
      "outputs": [
        {
          "output_type": "stream",
          "name": "stdout",
          "text": [
            "Number of Days to Live: 25\n",
            "days: 25\n",
            "grains: 33554431\n"
          ]
        }
      ]
    }
  ]
}